{
 "cells": [
  {
   "metadata": {},
   "cell_type": "markdown",
   "source": [
    "## Luis Alvarez\n",
    "### Docling's Information Extractor"
   ],
   "id": "57efd6fb1096cde2"
  },
  {
   "metadata": {},
   "cell_type": "code",
   "outputs": [],
   "execution_count": null,
   "source": [
    "from docling.datamodel.base_models import InputFormat\n",
    "from docling.document_extractor import DocumentExtractor\n",
    "\n",
    "file_path = (\n",
    "    \"https://upload.wikimedia.org/wikipedia/commons/9/9f/Swiss_QR-Bill_example.jpg\"\n",
    ")\n",
    "\n",
    "extractor = DocumentExtractor(allowed_formats=[InputFormat.PDF, InputFormat.IMAGE])\n",
    "\n",
    "result = extractor.extract(\n",
    "    source = file_path,\n",
    "    template = {\n",
    "        \"bill_no\": \"string\",\n",
    "        \"total\": \"float\"\n",
    "    },\n",
    ")\n",
    "print(result.pages)"
   ],
   "id": "eecbcdac4f6c1788"
  }
 ],
 "metadata": {
  "kernelspec": {
   "display_name": "Python 3",
   "language": "python",
   "name": "python3"
  },
  "language_info": {
   "codemirror_mode": {
    "name": "ipython",
    "version": 2
   },
   "file_extension": ".py",
   "mimetype": "text/x-python",
   "name": "python",
   "nbconvert_exporter": "python",
   "pygments_lexer": "ipython2",
   "version": "2.7.6"
  }
 },
 "nbformat": 4,
 "nbformat_minor": 5
}
